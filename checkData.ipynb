{
 "cells": [
  {
   "cell_type": "code",
   "execution_count": 1,
   "metadata": {},
   "outputs": [],
   "source": [
    "import pandas as pd\n",
    "import numpy as np\n",
    "import matplotlib.pyplot as plt\n",
    "import seaborn as sns\n",
    "import os"
   ]
  },
  {
   "cell_type": "code",
   "execution_count": 2,
   "metadata": {},
   "outputs": [],
   "source": [
    "data = pd.read_parquet('data/training_data.parquet')"
   ]
  },
  {
   "cell_type": "code",
   "execution_count": 8,
   "metadata": {},
   "outputs": [
    {
     "data": {
      "text/plain": [
       "array(['customer', 'merchant', 'ind_recommended', 'activation',\n",
       "       'customer_profile_01', 'customer_profile_02',\n",
       "       'customer_profile_03', 'customer_profile_04', 'customer_spend_01',\n",
       "       'customer_spend_02', 'customer_spend_03', 'customer_spend_04',\n",
       "       'customer_spend_05', 'customer_spend_06', 'customer_spend_07',\n",
       "       'customer_industry_spend_01', 'customer_industry_spend_02',\n",
       "       'customer_industry_spend_03', 'customer_industry_spend_04',\n",
       "       'customer_industry_spend_05', 'customer_spend_13',\n",
       "       'customer_spend_14', 'customer_spend_15', 'customer_spend_16',\n",
       "       'customer_spend_17', 'customer_spend_18', 'customer_spend_19',\n",
       "       'customer_merchant_01', 'customer_merchant_02',\n",
       "       'customer_digital_activity_01', 'customer_digital_activity_02',\n",
       "       'distance_01', 'distance_02', 'distance_03', 'distance_04',\n",
       "       'distance_05', 'merchant_profile_01', 'merchant_profile_02',\n",
       "       'merchant_profile_03', 'merchant_spend_01', 'merchant_spend_02',\n",
       "       'merchant_spend_03', 'merchant_spend_04', 'merchant_spend_05',\n",
       "       'merchant_spend_06', 'merchant_spend_07', 'merchant_spend_08',\n",
       "       'merchant_spend_09', 'merchant_spend_10', 'merchant_spend_11',\n",
       "       'customer_digital_activity_03', 'customer_digital_activity_04',\n",
       "       'customer_digital_activity_05', 'customer_digital_activity_06',\n",
       "       'customer_digital_activity_07', 'customer_digital_activity_08',\n",
       "       'customer_digital_activity_09', 'customer_digital_activity_10',\n",
       "       'customer_digital_activity_11', 'customer_digital_activity_12',\n",
       "       'customer_digital_activity_13', 'customer_digital_activity_14',\n",
       "       'customer_digital_activity_15', 'customer_digital_activity_16',\n",
       "       'customer_digital_activity_17', 'customer_digital_activity_18',\n",
       "       'customer_digital_activity_19', 'customer_digital_activity_20',\n",
       "       'customer_digital_activity_21', 'customer_digital_activity_22',\n",
       "       'customer_merchant_03'], dtype=object)"
      ]
     },
     "execution_count": 8,
     "metadata": {},
     "output_type": "execute_result"
    }
   ],
   "source": [
    "features = pd.read_csv('data/feature_dictionary.csv')\n",
    "feature_names = features['Feature Name'].values\n",
    "feature_names"
   ]
  },
  {
   "cell_type": "code",
   "execution_count": 9,
   "metadata": {},
   "outputs": [],
   "source": [
    "data = data[feature_names]"
   ]
  },
  {
   "cell_type": "code",
   "execution_count": 10,
   "metadata": {},
   "outputs": [
    {
     "name": "stdout",
     "output_type": "stream",
     "text": [
      "[       0        0        0        0     1695     1695    80754     4111\n",
      "  2047765  2047765   942701  8029703   942701   610900   610900  5854184\n",
      "  5854184  5854184  5854184  5854184  6437225  9371214  8649614  6437225\n",
      "  8649614  6576211  6410176 12219172 12219172   588716    32878  8082277\n",
      "  7591258  7591258  2204000        0   668440  1904278  1520659  2532584\n",
      "  2532584  2532584  2532584  2532584   669077  2532584  2532584  1520659\n",
      "   401910 11185455  6784817 10757359  8250227  8250227 12154010 12154010\n",
      " 12154010  8250227  8250227  8250227  8250227  8250227  8250227  8250227\n",
      "  8250227 12154010  9434054  7796216  4315004  4124232  3861485]\n"
     ]
    }
   ],
   "source": [
    "nan_count = data.isna().sum()\n",
    "print(nan_count.values)"
   ]
  },
  {
   "cell_type": "code",
   "execution_count": 14,
   "metadata": {},
   "outputs": [
    {
     "data": {
      "text/plain": [
       "462584"
      ]
     },
     "execution_count": 14,
     "metadata": {},
     "output_type": "execute_result"
    }
   ],
   "source": [
    "len(data['customer'].unique())"
   ]
  },
  {
   "cell_type": "code",
   "execution_count": 19,
   "metadata": {},
   "outputs": [
    {
     "data": {
      "text/plain": [
       "858"
      ]
     },
     "execution_count": 19,
     "metadata": {},
     "output_type": "execute_result"
    }
   ],
   "source": [
    "cis1 = data[data['customer_industry_spend_01'].isna()]\n",
    "len(cis1['customer_merchant_01'].unique())"
   ]
  },
  {
   "cell_type": "code",
   "execution_count": null,
   "metadata": {},
   "outputs": [
    {
     "data": {
      "text/plain": [
       "customer_merchant_01\n",
       "20.00    5\n",
       "40.00    4\n",
       "15.00    4\n",
       "30.00    4\n",
       "10.00    4\n",
       "        ..\n",
       "65.10    1\n",
       "43.00    1\n",
       "35.87    1\n",
       "2.52     1\n",
       "50.99    1\n",
       "Name: count, Length: 857, dtype: int64"
      ]
     },
     "execution_count": 20,
     "metadata": {},
     "output_type": "execute_result"
    }
   ],
   "source": [
    "cis1['customer_merchant_01'].value_counts()"
   ]
  }
 ],
 "metadata": {
  "kernelspec": {
   "display_name": "base",
   "language": "python",
   "name": "python3"
  },
  "language_info": {
   "codemirror_mode": {
    "name": "ipython",
    "version": 3
   },
   "file_extension": ".py",
   "mimetype": "text/x-python",
   "name": "python",
   "nbconvert_exporter": "python",
   "pygments_lexer": "ipython3",
   "version": "3.11.5"
  }
 },
 "nbformat": 4,
 "nbformat_minor": 2
}
